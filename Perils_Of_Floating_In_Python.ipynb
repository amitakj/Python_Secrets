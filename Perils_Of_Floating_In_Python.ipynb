{
 "cells": [
  {
   "cell_type": "markdown",
   "metadata": {},
   "source": [
    "## What would be the expected output of the operation: 0.2+0.1-0.3\n",
    "\n",
    "### Looking at it in first instance we are tempted to say that the output would be zero. But we will be surprised to see that output is not exactly zero:"
   ]
  },
  {
   "cell_type": "code",
   "execution_count": 1,
   "metadata": {},
   "outputs": [
    {
     "data": {
      "text/plain": [
       "5.551115123125783e-17"
      ]
     },
     "execution_count": 1,
     "metadata": {},
     "output_type": "execute_result"
    }
   ],
   "source": [
    "0.2+0.1-0.3"
   ]
  },
  {
   "cell_type": "markdown",
   "metadata": {},
   "source": [
    "### Surprised!!!!\n",
    "\n",
    "### Check this out to know why:\n",
    "### Url:https://docs.python.org/2/tutorial/floatingpoint.html"
   ]
  },
  {
   "cell_type": "markdown",
   "metadata": {},
   "source": [
    "Floating-point numbers are represented in computer hardware as base 2 (binary) fractions. For example, the decimal fraction\n",
    "\n",
    "0.125\n",
    "has value 1/10 + 2/100 + 5/1000, and in the same way the binary fraction\n",
    "\n",
    "0.001\n",
    "has value 0/2 + 0/4 + 1/8. These two fractions have identical values, the only real difference being that the first is written in base 10 fractional notation, and the second in base 2.\n",
    "\n",
    "Unfortunately, most decimal fractions cannot be represented exactly as binary fractions. A consequence is that, in general, the decimal floating-point numbers you enter are only approximated by the binary floating-point numbers actually stored in the machine.\n",
    "\n",
    "The problem is easier to understand at first in base 10. Consider the fraction 1/3. You can approximate that as a base 10 fraction:\n",
    "\n",
    "0.3\n",
    "or, better,\n",
    "\n",
    "0.33\n",
    "or, better,\n",
    "\n",
    "0.333\n",
    "and so on. No matter how many digits you’re willing to write down, the result will never be exactly 1/3, but will be an increasingly better approximation of 1/3.\n",
    "\n",
    "In the same way, no matter how many base 2 digits you’re willing to use, the decimal value 0.1 cannot be represented exactly as a base 2 fraction. In base 2, 1/10 is the infinitely repeating fraction\n",
    "\n",
    "0.0001100110011001100110011001100110011001100110011...\n",
    "Stop at any finite number of bits, and you get an approximation.\n",
    "\n",
    "On a typical machine running Python, there are 53 bits of precision available for a Python float, so the value stored internally when you enter the decimal number 0.1 is the binary fraction\n",
    "\n",
    "0.00011001100110011001100110011001100110011001100110011010\n",
    "which is close to, but not exactly equal to, 1/10.\n",
    "\n",
    "It’s easy to forget that the stored value is an approximation to the original decimal fraction, because of the way that floats are displayed at the interpreter prompt. Python only prints a decimal approximation to the true decimal value of the binary approximation stored by the machine. If Python were to print the true decimal value of the binary approximation stored for 0.1, it would have to display\n",
    "\n",
    ">>> 0.1\n",
    "0.1000000000000000055511151231257827021181583404541015625\n",
    "That is more digits than most people find useful, so Python keeps the number of digits manageable by displaying a rounded value instead\n",
    "\n",
    ">>> 0.1\n",
    "0.1\n",
    "It’s important to realize that this is, in a real sense, an illusion: the value in the machine is not exactly 1/10, you’re simply rounding the display of the true machine value. This fact becomes apparent as soon as you try to do arithmetic with these values\n",
    "\n",
    ">>> 0.1 + 0.2\n",
    "0.30000000000000004\n",
    "Note that this is in the very nature of binary floating-point: this is not a bug in Python, and it is not a bug in your code either. You’ll see the same kind of thing in all languages that support your hardware’s floating-point arithmetic (although some languages may not display the difference by default, or in all output modes).\n",
    "\n",
    "Other surprises follow from this one. For example, if you try to round the value 2.675 to two decimal places, you get this\n",
    "\n",
    ">>> round(2.675, 2)\n",
    "2.67\n",
    "The documentation for the built-in round() function says that it rounds to the nearest value, rounding ties away from zero. Since the decimal fraction 2.675 is exactly halfway between 2.67 and 2.68, you might expect the result here to be (a binary approximation to) 2.68. It’s not, because when the decimal string 2.675 is converted to a binary floating-point number, it’s again replaced with a binary approximation, whose exact value is\n",
    "\n",
    "2.67499999999999982236431605997495353221893310546875\n",
    "Since this approximation is slightly closer to 2.67 than to 2.68, it’s rounded down.\n",
    "\n",
    "If you’re in a situation where you care which way your decimal halfway-cases are rounded, you should consider using the decimal module. Incidentally, the decimal module also provides a nice way to “see” the exact value that’s stored in any particular Python float\n",
    "\n",
    ">>> from decimal import Decimal\n",
    ">>> Decimal(2.675)\n",
    "Decimal('2.67499999999999982236431605997495353221893310546875')\n",
    "Another consequence is that since 0.1 is not exactly 1/10, summing ten values of 0.1 may not yield exactly 1.0, either:\n",
    "\n",
    ">>> sum = 0.0\n",
    ">>> for i in range(10):\n",
    "...     sum += 0.1\n",
    "...\n",
    ">>> sum\n",
    "0.9999999999999999\n",
    "Binary floating-point arithmetic holds many surprises like this. The problem with “0.1” is explained in precise detail below, in the “Representation Error” section. See The Perils of Floating Point for a more complete account of other common surprises.\n",
    "\n",
    "As that says near the end, “there are no easy answers.” Still, don’t be unduly wary of floating-point! The errors in Python float operations are inherited from the floating-point hardware, and on most machines are on the order of no more than 1 part in 2**53 per operation. That’s more than adequate for most tasks, but you do need to keep in mind that it’s not decimal arithmetic, and that every float operation can suffer a new rounding error.\n",
    "\n",
    "While pathological cases do exist, for most casual use of floating-point arithmetic you’ll see the result you expect in the end if you simply round the display of your final results to the number of decimal digits you expect. For fine control over how a float is displayed see the str.format() method’s format specifiers in Format String Syntax.\n",
    "\n",
    "14.1. Representation Error\n",
    "This section explains the “0.1” example in detail, and shows how you can perform an exact analysis of cases like this yourself. Basic familiarity with binary floating-point representation is assumed.\n",
    "\n",
    "Representation error refers to the fact that some (most, actually) decimal fractions cannot be represented exactly as binary (base 2) fractions. This is the chief reason why Python (or Perl, C, C++, Java, Fortran, and many others) often won’t display the exact decimal number you expect:\n",
    "\n",
    ">>> 0.1 + 0.2\n",
    "0.30000000000000004\n",
    "Why is that? 1/10 and 2/10 are not exactly representable as a binary fraction. Almost all machines today (July 2010) use IEEE-754 floating point arithmetic, and almost all platforms map Python floats to IEEE-754 “double precision”. 754 doubles contain 53 bits of precision, so on input the computer strives to convert 0.1 to the closest fraction it can of the form J/2**N where J is an integer containing exactly 53 bits. Rewriting\n",
    "\n",
    "1 / 10 ~= J / (2**N)\n",
    "as\n",
    "\n",
    "J ~= 2**N / 10\n",
    "and recalling that J has exactly 53 bits (is >= 2**52 but < 2**53), the best value for N is 56:\n",
    "\n",
    ">>> 2**52\n",
    "4503599627370496\n",
    ">>> 2**53\n",
    "9007199254740992\n",
    ">>> 2**56/10\n",
    "7205759403792793\n",
    "That is, 56 is the only value for N that leaves J with exactly 53 bits. The best possible value for J is then that quotient rounded:\n",
    "\n",
    ">>> q, r = divmod(2**56, 10)\n",
    ">>> r\n",
    "6\n",
    "Since the remainder is more than half of 10, the best approximation is obtained by rounding up:\n",
    "\n",
    ">>> q+1\n",
    "7205759403792794\n",
    "Therefore the best possible approximation to 1/10 in 754 double precision is that over 2**56, or\n",
    "\n",
    "7205759403792794 / 72057594037927936\n",
    "Note that since we rounded up, this is actually a little bit larger than 1/10; if we had not rounded up, the quotient would have been a little bit smaller than 1/10. But in no case can it be exactly 1/10!\n",
    "\n",
    "So the computer never “sees” 1/10: what it sees is the exact fraction given above, the best 754 double approximation it can get:\n",
    "\n",
    ">>> .1 * 2**56\n",
    "7205759403792794.0\n",
    "If we multiply that fraction by 10**30, we can see the (truncated) value of its 30 most significant decimal digits:\n",
    "\n",
    ">>> 7205759403792794 * 10**30 // 2**56\n",
    "100000000000000005551115123125L\n",
    "meaning that the exact number stored in the computer is approximately equal to the decimal value 0.100000000000000005551115123125. In versions prior to Python 2.7 and Python 3.1, Python rounded this value to 17 significant digits, giving ‘0.10000000000000001’. In current versions, Python displays a value based on the shortest decimal fraction that rounds correctly back to the true binary value, resulting simply in ‘0.1’."
   ]
  },
  {
   "cell_type": "code",
   "execution_count": null,
   "metadata": {},
   "outputs": [],
   "source": []
  }
 ],
 "metadata": {
  "kernelspec": {
   "display_name": "Python 3",
   "language": "python",
   "name": "python3"
  },
  "language_info": {
   "codemirror_mode": {
    "name": "ipython",
    "version": 3
   },
   "file_extension": ".py",
   "mimetype": "text/x-python",
   "name": "python",
   "nbconvert_exporter": "python",
   "pygments_lexer": "ipython3",
   "version": "3.7.3"
  }
 },
 "nbformat": 4,
 "nbformat_minor": 2
}
